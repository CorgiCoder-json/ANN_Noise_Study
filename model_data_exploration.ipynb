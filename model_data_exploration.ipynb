{
 "cells": [
  {
   "cell_type": "markdown",
   "id": "9fa99058",
   "metadata": {},
   "source": [
    "Created: 7/1/2025\n",
    "\n",
    "Purpose: Exploratory Data analysis on the generated model dataset"
   ]
  },
  {
   "cell_type": "code",
   "execution_count": 1,
   "id": "e0a464ab",
   "metadata": {},
   "outputs": [],
   "source": [
    "# import libraries and functions\n",
    "\n",
    "from heatmap_analysis import Report, gather_model_paths, load_references, open_log, step_file_system\n",
    "import seaborn as sns\n",
    "import pandas as pd\n",
    "import matplotlib.pyplot as plt"
   ]
  },
  {
   "cell_type": "markdown",
   "id": "6d710533",
   "metadata": {},
   "source": [
    "This is the setup to load dataset into memory for further analysis"
   ]
  },
  {
   "cell_type": "code",
   "execution_count": 2,
   "id": "64449616",
   "metadata": {},
   "outputs": [],
   "source": [
    "class_path = \"D:\\\\model_dataset\\\\classification\"\n",
    "regress_path = \"D:\\\\model_dataset\\\\regression\"\n",
    "model_paths = gather_model_paths(class_path, regress_path)\n",
    "class_models = load_references(model_paths[1])\n",
    "regress_models = load_references(model_paths[0])\n",
    "class_logs_agg = []\n",
    "regress_logs_agg = []\n",
    "class_by_dataset = {}\n",
    "regress_by_dataset = {}\n",
    "\n",
    "# Gather the data for the classification models\n",
    "for model in class_models:\n",
    "    log = open_log(model.model_path)\n",
    "    class_logs_agg.append(log)\n",
    "    rows = model.model_path.split('\\\\')[-2]\n",
    "    if rows in class_by_dataset:\n",
    "        class_by_dataset[rows].append(log)\n",
    "    else:\n",
    "        class_by_dataset.update({rows: [log]})\n",
    "\n",
    "#Gather the data fro the regression models\n",
    "for model in regress_models:\n",
    "    log = open_log(model.model_path)\n",
    "    regress_logs_agg.append(log)\n",
    "    rows = model.model_path.split('\\\\')[-2]\n",
    "    if rows in regress_by_dataset:\n",
    "        regress_by_dataset[rows].append(log)\n",
    "    else:\n",
    "        regress_by_dataset.update({rows: [log]})"
   ]
  },
  {
   "cell_type": "code",
   "execution_count": 4,
   "id": "170f81c8",
   "metadata": {},
   "outputs": [],
   "source": [
    "class_data = pd.DataFrame(class_by_dataset)\n",
    "class_agg = pd.Series(class_logs_agg)\n",
    "regress_agg = pd.Series(regress_logs_agg)\n",
    "regress_data = pd.DataFrame(regress_by_dataset)\n",
    "class_acc = class_data.copy().map(lambda x: (x.accuracy, x.optimizer))\n",
    "regress_acc = regress_data.copy().map(lambda x: (x.accuracy, x.optimizer))"
   ]
  },
  {
   "cell_type": "code",
   "execution_count": 8,
   "id": "370be5d2",
   "metadata": {},
   "outputs": [
    {
     "name": "stdout",
     "output_type": "stream",
     "text": [
      "{\"<class 'torch.optim.sgd.SGD'>\": 404, \"<class 'torch.optim.adam.Adam'>\": 390, \"<class 'torch.optim.asgd.ASGD'>\": 386, \"<class 'torch.optim.rmsprop.RMSprop'>\": 420}\n"
     ]
    }
   ],
   "source": [
    "temp_agg = class_agg.copy().to_numpy()\n",
    "temp_r_agg = regress_agg.copy().to_numpy()\n",
    "optimizers_dict = {}\n",
    "for index, item in enumerate(temp_r_agg):\n",
    "    class_opt = temp_agg[index].optimizer\n",
    "    if item.optimizer in list(optimizers_dict.keys()):\n",
    "        optimizers_dict[item.optimizer] += 1\n",
    "    else:\n",
    "        optimizers_dict.update({item.optimizer: 1})\n",
    "    if class_opt in list(optimizers_dict.keys()):\n",
    "        optimizers_dict[class_opt] += 1\n",
    "    else:\n",
    "        optimizers_dict.update({class_opt: 1})\n",
    "print(optimizers_dict)"
   ]
  },
  {
   "cell_type": "markdown",
   "id": "557c6383",
   "metadata": {},
   "source": [
    "Note: Seems the dataset is biased towards the RMSProp optimizer, but not by a huge margin."
   ]
  }
 ],
 "metadata": {
  "kernelspec": {
   "display_name": "Dev",
   "language": "python",
   "name": "python3"
  },
  "language_info": {
   "codemirror_mode": {
    "name": "ipython",
    "version": 3
   },
   "file_extension": ".py",
   "mimetype": "text/x-python",
   "name": "python",
   "nbconvert_exporter": "python",
   "pygments_lexer": "ipython3",
   "version": "3.11.11"
  }
 },
 "nbformat": 4,
 "nbformat_minor": 5
}
