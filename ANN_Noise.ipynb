{
 "cells": [
  {
   "cell_type": "markdown",
   "metadata": {},
   "source": [
    "Programmer: Jacob Maurer\n",
    "Date: 9/17/2024\n",
    "Description: This file is meant to explore different network layers and how they differ/are the same when given an input"
   ]
  },
  {
   "cell_type": "code",
   "execution_count": 2,
   "metadata": {},
   "outputs": [],
   "source": [
    "import pandas as pd\n",
    "import torch\n",
    "from torch import nn\n",
    "from torch.utils.data import DataLoader\n",
    "from torchvision import datasets\n",
    "from torchvision.transforms import ToTensor"
   ]
  },
  {
   "cell_type": "code",
   "execution_count": 18,
   "metadata": {},
   "outputs": [],
   "source": [
    "rr_weight_1 = pd.read_csv(\"results/rr_weight_post_1.csv\").to_numpy()\n",
    "rr_bias_1 = pd.read_csv(\"results/rr_bias_post_2.csv\").to_numpy()\n",
    "ss_weight_1 = pd.read_csv(\"results/ss_weight_post_1.csv\").to_numpy()\n",
    "ss_bias_1 = pd.read_csv(\"results/ss_bias_post_2.csv\").to_numpy()\n",
    "rr_weight_2 = pd.read_csv(\"results/rr_weight_post_3.csv\").to_numpy()\n",
    "rr_bias_2 = pd.read_csv(\"results/rr_bias_post_4.csv\").to_numpy()\n",
    "ss_weight_2 = pd.read_csv(\"results/ss_weight_post_3.csv\").to_numpy()\n",
    "ss_bias_2 = pd.read_csv(\"results/ss_bias_post_4.csv\").to_numpy()\n",
    "rr_weight_3 = pd.read_csv(\"results/rr_weight_post_5.csv\").to_numpy()\n",
    "rr_bias_3 = pd.read_csv(\"results/rr_bias_post_6.csv\").to_numpy()\n",
    "ss_weight_3 = pd.read_csv(\"results/ss_weight_post_5.csv\").to_numpy()\n",
    "ss_bias_3 = pd.read_csv(\"results/ss_bias_post_6.csv\").to_numpy()"
   ]
  },
  {
   "cell_type": "code",
   "execution_count": 4,
   "metadata": {},
   "outputs": [],
   "source": [
    "training_data = datasets.FashionMNIST(\n",
    "    root=\"data\",\n",
    "    train=True,\n",
    "    download=True,\n",
    "    transform=ToTensor(),\n",
    ")\n",
    "\n",
    "# Download test data from open datasets.\n",
    "test_data = datasets.FashionMNIST(\n",
    "    root=\"data\",\n",
    "    train=False,\n",
    "    download=True,\n",
    "    transform=ToTensor(),\n",
    ")\n",
    "\n",
    "batch_size = 64\n",
    "\n",
    "# Create data loaders.\n",
    "train_dataloader = DataLoader(training_data, batch_size=batch_size)\n",
    "test_dataloader = DataLoader(test_data, batch_size=batch_size)"
   ]
  },
  {
   "cell_type": "code",
   "execution_count": 5,
   "metadata": {},
   "outputs": [
    {
     "name": "stdout",
     "output_type": "stream",
     "text": [
      "9\n"
     ]
    }
   ],
   "source": [
    "device = (\n",
    "    \"cuda\"\n",
    "    if torch.cuda.is_available()\n",
    "    else \"mps\"\n",
    "    if torch.backends.mps.is_available()\n",
    "    else \"cpu\"\n",
    ")\n",
    "flatten = nn.Flatten()\n",
    "sample_x = None\n",
    "for X, y in test_dataloader:\n",
    "    sample_x = flatten(X[0]).numpy()[0]\n",
    "    print(y[0].numpy())\n",
    "    break"
   ]
  },
  {
   "cell_type": "code",
   "execution_count": 6,
   "metadata": {},
   "outputs": [],
   "source": [
    "import numpy as np"
   ]
  },
  {
   "cell_type": "code",
   "execution_count": 22,
   "metadata": {},
   "outputs": [
    {
     "name": "stdout",
     "output_type": "stream",
     "text": [
      "-0.11614127158017755\n",
      "1.6479486644632766\n"
     ]
    }
   ],
   "source": [
    "relu = rr_weight_1.dot(sample_x) + rr_bias_1\n",
    "relu = nn.functional.relu(torch.from_numpy(relu))\n",
    "sigmoid = ss_weight_1.dot(sample_x) + ss_bias_1\n",
    "sigmoid = nn.functional.sigmoid(torch.from_numpy(sigmoid))\n",
    "relu = rr_weight_2.dot(relu.numpy()) + rr_bias_2\n",
    "relu = nn.functional.relu(torch.from_numpy(relu))\n",
    "sigmoid = ss_weight_2.dot(sigmoid.numpy()) + ss_bias_2\n",
    "sigmoid = nn.functional.sigmoid(torch.from_numpy(sigmoid))\n",
    "relu = rr_weight_3.dot(relu.numpy()) + rr_bias_3\n",
    "sigmoid = ss_weight_3.dot(sigmoid.numpy()) + ss_bias_3\n",
    "\n",
    "print(np.mean((relu-sigmoid)))\n",
    "print(np.std((relu-sigmoid)))\n"
   ]
  }
 ],
 "metadata": {
  "kernelspec": {
   "display_name": "Dev",
   "language": "python",
   "name": "python3"
  },
  "language_info": {
   "codemirror_mode": {
    "name": "ipython",
    "version": 3
   },
   "file_extension": ".py",
   "mimetype": "text/x-python",
   "name": "python",
   "nbconvert_exporter": "python",
   "pygments_lexer": "ipython3",
   "version": "3.11.9"
  }
 },
 "nbformat": 4,
 "nbformat_minor": 2
}
