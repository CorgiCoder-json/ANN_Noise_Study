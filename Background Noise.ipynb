{
 "cells": [
  {
   "cell_type": "markdown",
   "metadata": {},
   "source": [
    "Programmer: Jacob Maurer\n",
    "Date: 9/20/2024\n",
    "Description: This is meant to try and mathmatically show the background noise captured by excel heatmpas (literally just using z-score)"
   ]
  },
  {
   "cell_type": "code",
   "execution_count": 2,
   "metadata": {},
   "outputs": [],
   "source": [
    "import pandas as pd\n",
    "import numpy as np"
   ]
  },
  {
   "cell_type": "code",
   "execution_count": 3,
   "metadata": {},
   "outputs": [],
   "source": [
    "s_rr_pre = pd.read_csv(\"results/rr_s_weight_pre_1.csv\").to_numpy()\n",
    "s_ss_pre = pd.read_csv(\"results/ss_s_weight_pre_1.csv\").to_numpy()\n",
    "s_rr_post = pd.read_csv(\"results/rr_s_weight_post_1.csv\").to_numpy()\n",
    "s_ss_post = pd.read_csv(\"results/ss_s_weight_post_1.csv\").to_numpy()\n",
    "s_rr_pre2 = pd.read_csv(\"results/rr_s_weight_pre_3.csv\").to_numpy()\n",
    "s_ss_pre2 = pd.read_csv(\"results/ss_s_weight_pre_3.csv\").to_numpy()\n",
    "s_rr_post2 = pd.read_csv(\"results/rr_s_weight_post_3.csv\").to_numpy()\n",
    "s_ss_post2 = pd.read_csv(\"results/ss_s_weight_post_3.csv\").to_numpy()"
   ]
  },
  {
   "cell_type": "code",
   "execution_count": 4,
   "metadata": {},
   "outputs": [],
   "source": [
    "s_rr_pre = np.reshape(s_rr_pre, -1)\n",
    "s_ss_pre = np.reshape(s_ss_pre, -1)\n",
    "s_rr_post = np.reshape(s_rr_post, -1)\n",
    "s_ss_post = np.reshape(s_ss_post, -1)\n",
    "s_rr_pre2 = np.reshape(s_rr_pre2, -1)\n",
    "s_ss_pre2 = np.reshape(s_ss_pre2, -1)\n",
    "s_rr_post2 = np.reshape(s_rr_post2, -1)\n",
    "s_ss_post2 = np.reshape(s_ss_post2, -1)\n",
    "s_ss_layers_pre = [s_ss_pre, s_ss_pre2]\n",
    "s_ss_layers_post = [s_ss_post, s_ss_post2]\n",
    "s_rr_layers_pre = [s_rr_pre, s_rr_pre2]\n",
    "s_rr_layers_post = [s_rr_post, s_rr_post2]"
   ]
  },
  {
   "cell_type": "code",
   "execution_count": 5,
   "metadata": {},
   "outputs": [],
   "source": [
    "s_bias_rr_pre = pd.read_csv(\"results/rr_s_bias_pre_2.csv\").to_numpy()\n",
    "s_bias_ss_pre = pd.read_csv(\"results/ss_s_bias_pre_2.csv\").to_numpy()\n",
    "s_bias_rr_post = pd.read_csv(\"results/rr_s_bias_post_2.csv\").to_numpy()\n",
    "s_bias_ss_post = pd.read_csv(\"results/ss_s_bias_post_2.csv\").to_numpy()\n",
    "s_bias_rr_pre2 = pd.read_csv(\"results/rr_s_bias_pre_4.csv\").to_numpy()\n",
    "s_bias_ss_pre2 = pd.read_csv(\"results/ss_s_bias_pre_4.csv\").to_numpy()\n",
    "s_bias_rr_post2 = pd.read_csv(\"results/rr_s_bias_post_4.csv\").to_numpy()\n",
    "s_bias_ss_post2 = pd.read_csv(\"results/ss_s_bias_post_4.csv\").to_numpy()"
   ]
  },
  {
   "cell_type": "code",
   "execution_count": 6,
   "metadata": {},
   "outputs": [],
   "source": [
    "s_bias_rr_pre = np.reshape(s_bias_rr_pre, -1)\n",
    "s_bias_ss_pre = np.reshape(s_bias_ss_pre, -1)\n",
    "s_bias_rr_post = np.reshape(s_bias_rr_post, -1)\n",
    "s_bias_ss_post = np.reshape(s_bias_ss_post, -1)\n",
    "s_bias_rr_pre2 = np.reshape(s_bias_rr_pre2, -1)\n",
    "s_bias_ss_pre2 = np.reshape(s_bias_ss_pre2, -1)\n",
    "s_bias_rr_post2 = np.reshape(s_bias_rr_post2, -1)\n",
    "s_bias_ss_post2 = np.reshape(s_bias_ss_post2, -1)\n",
    "sb_ss_layers_pre = [s_bias_ss_pre, s_bias_ss_pre2]\n",
    "sb_ss_layers_post = [s_bias_ss_post, s_bias_ss_post2]\n",
    "sb_rr_layers_pre = [s_bias_rr_pre, s_bias_rr_pre2]\n",
    "sb_rr_layers_post = [s_bias_rr_post, s_bias_rr_post2]"
   ]
  },
  {
   "cell_type": "code",
   "execution_count": 7,
   "metadata": {},
   "outputs": [],
   "source": [
    "#imports the weights\n",
    "rr_pre = pd.read_csv(\"results/rr_weight_pre_1.csv\").to_numpy()\n",
    "ss_pre = pd.read_csv(\"results/ss_weight_pre_1.csv\").to_numpy()\n",
    "rr_post = pd.read_csv(\"results/rr_weight_post_1.csv\").to_numpy()\n",
    "ss_post = pd.read_csv(\"results/ss_weight_post_1.csv\").to_numpy()\n",
    "rr_pre2 = pd.read_csv(\"results/rr_weight_pre_3.csv\").to_numpy()\n",
    "ss_pre2 = pd.read_csv(\"results/ss_weight_pre_3.csv\").to_numpy()\n",
    "rr_post2 = pd.read_csv(\"results/rr_weight_post_3.csv\").to_numpy()\n",
    "ss_post2 = pd.read_csv(\"results/ss_weight_post_3.csv\").to_numpy()\n",
    "rr_pre3 = pd.read_csv(\"results/rr_weight_pre_5.csv\").to_numpy()\n",
    "ss_pre3 = pd.read_csv(\"results/ss_weight_pre_5.csv\").to_numpy()\n",
    "rr_post3 = pd.read_csv(\"results/rr_weight_post_5.csv\").to_numpy()\n",
    "ss_post3 = pd.read_csv(\"results/ss_weight_post_5.csv\").to_numpy()\n"
   ]
  },
  {
   "cell_type": "code",
   "execution_count": 8,
   "metadata": {},
   "outputs": [],
   "source": [
    "bias_rr_pre = pd.read_csv(\"results/rr_bias_pre_2.csv\").to_numpy()\n",
    "bias_ss_pre = pd.read_csv(\"results/ss_bias_pre_2.csv\").to_numpy()\n",
    "bias_rr_post = pd.read_csv(\"results/rr_bias_post_2.csv\").to_numpy()\n",
    "bias_ss_post = pd.read_csv(\"results/ss_bias_post_2.csv\").to_numpy()\n",
    "bias_rr_pre2 = pd.read_csv(\"results/rr_bias_pre_4.csv\").to_numpy()\n",
    "bias_ss_pre2 = pd.read_csv(\"results/ss_bias_pre_4.csv\").to_numpy()\n",
    "bias_rr_post2 = pd.read_csv(\"results/rr_bias_post_4.csv\").to_numpy()\n",
    "bias_ss_post2 = pd.read_csv(\"results/ss_bias_post_4.csv\").to_numpy()\n",
    "bias_rr_pre3 = pd.read_csv(\"results/rr_bias_pre_6.csv\").to_numpy()\n",
    "bias_ss_pre3 = pd.read_csv(\"results/ss_bias_pre_6.csv\").to_numpy()\n",
    "bias_rr_post3 = pd.read_csv(\"results/rr_bias_post_6.csv\").to_numpy()\n",
    "bias_ss_post3 = pd.read_csv(\"results/ss_bias_post_6.csv\").to_numpy()"
   ]
  },
  {
   "cell_type": "code",
   "execution_count": 9,
   "metadata": {},
   "outputs": [],
   "source": [
    "rr_pre = np.reshape(rr_pre, -1)\n",
    "ss_pre = np.reshape(ss_pre, -1)\n",
    "rr_post = np.reshape(rr_post, -1)\n",
    "ss_post = np.reshape(ss_post, -1)\n",
    "rr_pre2 = np.reshape(rr_pre2, -1)\n",
    "ss_pre2 = np.reshape(ss_pre2, -1)\n",
    "rr_post2 = np.reshape(rr_post2, -1)\n",
    "ss_post2 = np.reshape(ss_post2, -1)\n",
    "rr_pre3 = np.reshape(rr_pre3, -1)\n",
    "ss_pre3 = np.reshape(ss_pre3, -1)\n",
    "rr_post3 = np.reshape(rr_post3, -1)\n",
    "ss_post3 = np.reshape(ss_post3, -1)\n",
    "ss_layers_pre = [ss_pre, ss_pre2, ss_pre3]\n",
    "ss_layers_post = [ss_post, ss_post2, ss_post3]\n",
    "rr_layers_pre = [rr_pre, rr_pre2, rr_pre3]\n",
    "rr_layers_post = [rr_post, rr_post2, rr_post3]"
   ]
  },
  {
   "cell_type": "code",
   "execution_count": 10,
   "metadata": {},
   "outputs": [],
   "source": [
    "bias_rr_pre = np.reshape(bias_rr_pre, -1)\n",
    "bias_ss_pre = np.reshape(bias_ss_pre, -1)\n",
    "bias_rr_post = np.reshape(bias_rr_post, -1)\n",
    "bias_ss_post = np.reshape(bias_ss_post, -1)\n",
    "bias_rr_pre2 = np.reshape(bias_rr_pre2, -1)\n",
    "bias_ss_pre2 = np.reshape(bias_ss_pre2, -1)\n",
    "bias_rr_post2 = np.reshape(bias_rr_post2, -1)\n",
    "bias_ss_post2 = np.reshape(bias_ss_post2, -1)\n",
    "bias_rr_pre3 = np.reshape(bias_rr_pre3, -1)\n",
    "bias_ss_pre3 = np.reshape(bias_ss_pre3, -1)\n",
    "bias_rr_post3 = np.reshape(bias_rr_post3, -1)\n",
    "bias_ss_post3 = np.reshape(bias_ss_post3, -1)\n",
    "bss_layers_pre = [ss_pre, ss_pre2, ss_pre3]\n",
    "bss_layers_post = [ss_post, ss_post2, ss_post3]\n",
    "brr_layers_pre = [rr_pre, rr_pre2, rr_pre3]\n",
    "brr_layers_post = [rr_post, rr_post2, rr_post3]"
   ]
  },
  {
   "cell_type": "code",
   "execution_count": 11,
   "metadata": {},
   "outputs": [],
   "source": [
    "def calc_layer_means(layers):\n",
    "    means = []\n",
    "    for layer in layers:\n",
    "        means.append(np.mean(layer))\n",
    "    return means\n",
    "def calc_layer_std(layers):\n",
    "    stds = []\n",
    "    for layer in layers:\n",
    "        stds.append(np.std(layer))\n",
    "    return stds\n",
    "def transform_zscore(layer, mean, std):\n",
    "    standerdized_layer = []\n",
    "    for item in layer:\n",
    "        standerdized_layer.append((layer-mean)/std)\n",
    "    return standerdized_layer"
   ]
  },
  {
   "cell_type": "code",
   "execution_count": 12,
   "metadata": {},
   "outputs": [],
   "source": [
    "rr_means_pre = calc_layer_means([rr_pre, rr_pre2, rr_pre3])\n",
    "rr_stds_pre = calc_layer_std([rr_pre, rr_pre2, rr_pre3])\n",
    "ss_means_pre = calc_layer_means([ss_pre, ss_pre2, ss_pre3])\n",
    "ss_stds_pre = calc_layer_std([ss_pre, ss_pre2, ss_pre3])\n",
    "rr_means_post = calc_layer_means([rr_post, rr_post2, rr_post3])\n",
    "rr_stds_post = calc_layer_std([rr_post, rr_post2, rr_post3])\n",
    "ss_means_post = calc_layer_means([ss_post, ss_post2, ss_post3])\n",
    "ss_stds_post = calc_layer_std([ss_post, ss_post2, ss_post3])"
   ]
  },
  {
   "cell_type": "code",
   "execution_count": 13,
   "metadata": {},
   "outputs": [],
   "source": [
    "s_rr_means_pre = calc_layer_means([s_rr_pre, s_rr_pre2])\n",
    "s_rr_stds_pre = calc_layer_std([s_rr_pre, s_rr_pre2])\n",
    "s_ss_means_pre = calc_layer_means([s_ss_pre, s_ss_pre2])\n",
    "s_ss_stds_pre = calc_layer_std([s_ss_pre, s_ss_pre2])\n",
    "s_rr_means_post = calc_layer_means([s_rr_post, s_rr_post2])\n",
    "s_rr_stds_post = calc_layer_std([s_rr_post, s_rr_post2])\n",
    "s_ss_means_post = calc_layer_means([s_ss_post, s_ss_post2])\n",
    "s_ss_stds_post = calc_layer_std([s_ss_post, s_ss_post2])"
   ]
  },
  {
   "cell_type": "code",
   "execution_count": 14,
   "metadata": {},
   "outputs": [],
   "source": [
    "bias_rr_means_pre = calc_layer_means([bias_rr_pre, bias_rr_pre2, bias_rr_pre3])\n",
    "bias_rr_stds_pre = calc_layer_std([bias_rr_pre, bias_rr_pre2, bias_rr_pre3])\n",
    "bias_ss_means_pre = calc_layer_means([bias_ss_pre, bias_ss_pre2, bias_ss_pre3])\n",
    "bias_ss_stds_pre = calc_layer_std([bias_ss_pre, bias_ss_pre2, bias_ss_pre3])\n",
    "bias_rr_means_post = calc_layer_means([bias_rr_post, bias_rr_post2, bias_rr_post3])\n",
    "bias_rr_stds_post = calc_layer_std([bias_rr_post, bias_rr_post2, bias_rr_post3])\n",
    "bias_ss_means_post = calc_layer_means([bias_ss_post, bias_ss_post2, bias_ss_post3])\n",
    "bias_ss_stds_post = calc_layer_std([bias_ss_post, bias_ss_post2, bias_ss_post3])"
   ]
  },
  {
   "cell_type": "code",
   "execution_count": 15,
   "metadata": {},
   "outputs": [],
   "source": [
    "s_bias_rr_means_pre = calc_layer_means([s_bias_rr_pre, s_bias_rr_pre2])\n",
    "s_bias_rr_stds_pre = calc_layer_std([s_bias_rr_pre, s_bias_rr_pre2])\n",
    "s_bias_ss_means_pre = calc_layer_means([s_bias_ss_pre, s_bias_ss_pre2])\n",
    "s_bias_ss_stds_pre = calc_layer_std([s_bias_ss_pre, s_bias_ss_pre2])\n",
    "s_bias_rr_means_post = calc_layer_means([s_bias_rr_post, s_bias_rr_post2])\n",
    "s_bias_rr_stds_post = calc_layer_std([s_bias_rr_post, s_bias_rr_post2])\n",
    "s_bias_ss_means_post = calc_layer_means([s_bias_ss_post, s_bias_ss_post2])\n",
    "s_bias_ss_stds_post = calc_layer_std([s_bias_ss_post, s_bias_ss_post2])"
   ]
  },
  {
   "cell_type": "code",
   "execution_count": 16,
   "metadata": {},
   "outputs": [
    {
     "ename": "KeyboardInterrupt",
     "evalue": "",
     "output_type": "error",
     "traceback": [
      "\u001b[1;31m---------------------------------------------------------------------------\u001b[0m",
      "\u001b[1;31mKeyboardInterrupt\u001b[0m                         Traceback (most recent call last)",
      "Cell \u001b[1;32mIn[16], line 1\u001b[0m\n\u001b[1;32m----> 1\u001b[0m s_ss_1_pre \u001b[38;5;241m=\u001b[39m \u001b[43mtransform_zscore\u001b[49m\u001b[43m(\u001b[49m\u001b[43ms_ss_pre\u001b[49m\u001b[43m,\u001b[49m\u001b[43m \u001b[49m\u001b[43ms_ss_means_pre\u001b[49m\u001b[43m[\u001b[49m\u001b[38;5;241;43m0\u001b[39;49m\u001b[43m]\u001b[49m\u001b[43m,\u001b[49m\u001b[43m \u001b[49m\u001b[43ms_ss_stds_pre\u001b[49m\u001b[43m[\u001b[49m\u001b[38;5;241;43m0\u001b[39;49m\u001b[43m]\u001b[49m\u001b[43m)\u001b[49m\n\u001b[0;32m      2\u001b[0m \u001b[38;5;28mprint\u001b[39m(s_ss_1_pre)\n",
      "Cell \u001b[1;32mIn[11], line 14\u001b[0m, in \u001b[0;36mtransform_zscore\u001b[1;34m(layer, mean, std)\u001b[0m\n\u001b[0;32m     12\u001b[0m standerdized_layer \u001b[38;5;241m=\u001b[39m []\n\u001b[0;32m     13\u001b[0m \u001b[38;5;28;01mfor\u001b[39;00m item \u001b[38;5;129;01min\u001b[39;00m layer:\n\u001b[1;32m---> 14\u001b[0m     standerdized_layer\u001b[38;5;241m.\u001b[39mappend((layer\u001b[38;5;241m-\u001b[39mmean)\u001b[38;5;241m/\u001b[39mstd)\n\u001b[0;32m     15\u001b[0m \u001b[38;5;28;01mreturn\u001b[39;00m standerdized_layer\n",
      "\u001b[1;31mKeyboardInterrupt\u001b[0m: "
     ]
    }
   ],
   "source": [
    "\n"
   ]
  },
  {
   "cell_type": "code",
   "execution_count": 25,
   "metadata": {},
   "outputs": [
    {
     "name": "stdout",
     "output_type": "stream",
     "text": [
      "RR network Means: \n",
      " Weights:\n",
      "  Pre- mean: [6.91280776945924e-05, -3.515625575845796e-05, -0.00048699205053398433] std: [0.020633423651644472, 0.025529980160466745, 0.025672431960547387]\n",
      "  Post- mean: [0.0011066020268600367, 0.0008739170219734135, -0.0004869912649353712] std: [0.021380260844086844, 0.02649627580999277, 0.058331619672270706]\n",
      " Bias:\n",
      "  Pre- mean: [-9.044402930468711e-05, 0.0012166965154882812, -0.002764451405] std: [0.020463811842405127, 0.02529049803088778, 0.021740077014401726]\n",
      "  Post- mean: [0.0075402855210625, 0.007843355806933593, -0.0027645747599999992] std: [0.0304819935331606, 0.038153616886426954, 0.24762577088741916]\n",
      "SS network Means: \n",
      " Weights:\n",
      "  Pre- mean: [-7.706065632595835e-06, -7.444809057280257e-06, 0.00023755779789302734] std: [0.02062227755495444, 0.025497198229048355, 0.02579704758396572]\n",
      "  Post- mean: [-0.0001323013330343402, 4.984402089281833e-05, 0.00023758874285253906] std: [0.023558188617021518, 0.02983694955462984, 0.12058810700844506]\n",
      " Bias:\n",
      "  Pre- mean: [-0.0008907805086523437, 7.259353944531223e-05, 0.01081101681] std: [0.020618413236568208, 0.02597893990786361, 0.024603784438060907]\n",
      "  Post- mean: [-0.00021321222906250004, 0.00019286633638671886, 0.010811019299999999] std: [0.0215728764451414, 0.025933506504723126, 0.021806261670279308]\n"
     ]
    }
   ],
   "source": [
    "print(\"RR network Means: \")\n",
    "print(\" Weights:\")\n",
    "print(\"  Pre- mean:\",rr_means_pre,\"std:\",rr_stds_pre)\n",
    "print(\"  Post- mean:\",rr_means_post,\"std:\",rr_stds_post)\n",
    "print(\" Bias:\")\n",
    "print(\"  Pre- mean:\",bias_rr_means_pre,\"std:\",bias_rr_stds_pre)\n",
    "print(\"  Post- mean:\",bias_rr_means_post,\"std:\",bias_rr_stds_post)\n",
    "print(\"SS network Means: \")\n",
    "print(\" Weights:\")\n",
    "print(\"  Pre- mean:\",ss_means_pre,\"std:\",ss_stds_pre)\n",
    "print(\"  Post- mean:\",ss_means_post,\"std:\",ss_stds_post)\n",
    "print(\" Bias:\")\n",
    "print(\"  Pre- mean:\",bias_ss_means_pre,\"std:\",bias_ss_stds_pre)\n",
    "print(\"  Post- mean:\",bias_ss_means_post,\"std:\",bias_ss_stds_post)"
   ]
  },
  {
   "cell_type": "code",
   "execution_count": 33,
   "metadata": {},
   "outputs": [
    {
     "name": "stdout",
     "output_type": "stream",
     "text": [
      "RR network Means: \n",
      " Weights:\n",
      "  Pre- mean: [8.516051720735311e-06, 0.0003554388145539062] std: [0.020603447150618976, 0.025614392011956463]\n",
      "  Post- mean: [0.0010451399842383467, 0.0003554384467151949] std: [0.021589692289045007, 0.06427768692864605]\n",
      " Bias:\n",
      "  Pre- mean: [0.00013514925738671854, 0.00064054157] std: [0.02144226898873212, 0.02444785753792637]\n",
      "  Post- mean: [0.010381397775800782, 0.0006404825000000086] std: [0.03925863112376509, 0.24258311893809248]\n",
      "SS network Means: \n",
      " Weights:\n",
      "  Pre- mean: [4.579446190412666e-05, -0.0005266078849668554] std: [0.020606715635762073, 0.02526557195261293]\n",
      "  Post- mean: [-0.0002126062743581768, -0.0005266053909107422] std: [0.022302255147639602, 0.08493540719195393]\n",
      " Bias:\n",
      "  Pre- mean: [5.469158457031245e-05, -0.001917145800000001] std: [0.020532517845173272, 0.024671579111313246]\n",
      "  Post- mean: [0.0004676884462226562, -0.00191715529] std: [0.021330415365523412, 0.0316504068212231]\n"
     ]
    }
   ],
   "source": [
    "print(\"RR network Means: \")\n",
    "print(\" Weights:\")\n",
    "print(\"  Pre- mean:\",s_rr_means_pre,\"std:\",s_rr_stds_pre)\n",
    "print(\"  Post- mean:\",s_rr_means_post,\"std:\",s_rr_stds_post)\n",
    "print(\" Bias:\")\n",
    "print(\"  Pre- mean:\",s_bias_rr_means_pre,\"std:\",s_bias_rr_stds_pre)\n",
    "print(\"  Post- mean:\",s_bias_rr_means_post,\"std:\",s_bias_rr_stds_post)\n",
    "print(\"SS network Means: \")\n",
    "print(\" Weights:\")\n",
    "print(\"  Pre- mean:\",s_ss_means_pre,\"std:\",s_ss_stds_pre)\n",
    "print(\"  Post- mean:\",s_ss_means_post,\"std:\",s_ss_stds_post)\n",
    "print(\" Bias:\")\n",
    "print(\"  Pre- mean:\",s_bias_ss_means_pre,\"std:\",s_bias_ss_stds_pre)\n",
    "print(\"  Post- mean:\",s_bias_ss_means_post,\"std:\",s_bias_ss_stds_post)"
   ]
  },
  {
   "cell_type": "code",
   "execution_count": null,
   "metadata": {},
   "outputs": [],
   "source": []
  }
 ],
 "metadata": {
  "kernelspec": {
   "display_name": "Dev",
   "language": "python",
   "name": "python3"
  },
  "language_info": {
   "codemirror_mode": {
    "name": "ipython",
    "version": 3
   },
   "file_extension": ".py",
   "mimetype": "text/x-python",
   "name": "python",
   "nbconvert_exporter": "python",
   "pygments_lexer": "ipython3",
   "version": "3.11.9"
  }
 },
 "nbformat": 4,
 "nbformat_minor": 2
}
